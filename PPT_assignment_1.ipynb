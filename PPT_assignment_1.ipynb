{
  "nbformat": 4,
  "nbformat_minor": 0,
  "metadata": {
    "colab": {
      "provenance": []
    },
    "kernelspec": {
      "name": "python3",
      "display_name": "Python 3"
    },
    "language_info": {
      "name": "python"
    }
  },
  "cells": [
    {
      "cell_type": "code",
      "source": [],
      "metadata": {
        "id": "lK6IqcN58NQp"
      },
      "execution_count": null,
      "outputs": []
    },
    {
      "cell_type": "markdown",
      "source": [
        "💡 Q1.Given an array of integers nums and an integer target, return indices of the two numbers such that they add up to target.\n",
        "\n",
        "You may assume that each input would have exactly one solution, and you may not use the same element twice.\n",
        "\n",
        "You can return the answer in any order.\n",
        "\n",
        "Example:\n",
        "Input: nums = [2,7,11,15], target = 9\n",
        "Output0 [0,1]\n",
        "\n",
        "Explanation: Because nums[0] + nums[1] == 9, we return [0, 1][\n"
      ],
      "metadata": {
        "id": "DdUOihSr8XpU"
      }
    },
    {
      "cell_type": "code",
      "source": [
        "def add_target(num:list , target:int):\n",
        "  ind1=int\n",
        "  ind2=int\n",
        "  for i in range(len(num)):\n",
        "    for j in range(len(num)):\n",
        "       if (num[i]+num[j]==target and i != j):\n",
        "         ind1=j\n",
        "         ind2=i\n",
        "  print(f'num{ind1} + num{ind2} == {target} [{ind1},{ind2}]')       \n",
        "\n",
        "add_target([2,7,11,15], 9) \n",
        "add_target([5,1,3,5,6],10)        "
      ],
      "metadata": {
        "colab": {
          "base_uri": "https://localhost:8080/"
        },
        "id": "iYLcM5Ya8Z2H",
        "outputId": "b978806b-4091-4ff7-d0cb-a0cbd19d8a90"
      },
      "execution_count": null,
      "outputs": [
        {
          "output_type": "stream",
          "name": "stdout",
          "text": [
            "num0 + num1 == 9 [0,1]\n",
            "num0 + num3 == 10 [0,3]\n"
          ]
        }
      ]
    },
    {
      "cell_type": "markdown",
      "source": [
        "<aside>\n",
        "💡 **Q2.** Given an integer array nums and an integer val, remove all occurrences of val in nums in-place. The order of the elements may be changed. Then return the number of elements in nums which are not equal to val.\n",
        "\n",
        "Consider the number of elements in nums which are not equal to val be k, to get accepted, you need to do the following things:\n",
        "\n",
        "- Change the array nums such that the first k elements of nums contain the elements which are not equal to val. The remaining elements of nums are not important as well as the size of nums.\n",
        "- Return k.\n",
        "\n",
        "**Example :**\n",
        "Input: nums = [3,2,2,3], val = 3\n",
        "Output: 2, nums = [2,2,_,'_]\n",
        "\n",
        "**Explanation:** Your function should return k = 2, with the first two elements of nums being 2. It does not matter what you leave beyond the returned k (hence they are underscores)[\n",
        "\n",
        "</aside>"
      ],
      "metadata": {
        "id": "y06jMOs1ODhp"
      }
    },
    {
      "cell_type": "code",
      "source": [
        "def remove_val(num:list , val:int):\n",
        "  out_num=[]\n",
        "  k=0\n",
        "  for i in num:\n",
        "    if i!=val:\n",
        "      out_num.append(i)\n",
        "      k+=1\n",
        "  list_diff = len(num)-len(out_num)    \n",
        "  for j in range(list_diff):\n",
        "    out_num.append('_')\n",
        "  print(f\"Output: {k}, nums = {out_num}\")\n",
        "\n",
        "remove_val([3,2,2,3], 3)   "
      ],
      "metadata": {
        "id": "HaC7ocSUJWvf",
        "colab": {
          "base_uri": "https://localhost:8080/"
        },
        "outputId": "4cfd377b-4844-47c6-ff96-35163005bc0f"
      },
      "execution_count": null,
      "outputs": [
        {
          "output_type": "stream",
          "name": "stdout",
          "text": [
            "Output: 2, nums = [2, 2, '_', '_']\n"
          ]
        }
      ]
    },
    {
      "cell_type": "markdown",
      "source": [
        "<aside>\n",
        "💡 **Q3.** Given a sorted array of distinct integers and a target value, return the index if the target is found. If not, return the index where it would be if it were inserted in order.\n",
        "\n",
        "You must write an algorithm with O(log n) runtime complexity.\n",
        "\n",
        "**Example 1:**\n",
        "Input: nums = [1,3,5,6], target = 5\n",
        "\n",
        "Output: 2\n",
        "\n",
        "</aside>"
      ],
      "metadata": {
        "id": "CIwz24Pdov38"
      }
    },
    {
      "cell_type": "code",
      "source": [
        "def search_index(num:list , target:int):\n",
        "  left,right=0,len(num)-1\n",
        "  while left<=right:\n",
        "    mid=(left+right)//2\n",
        "    if num[mid]==target:\n",
        "      return mid\n",
        "    elif num[mid]<target:\n",
        "      left=mid+1\n",
        "    else:\n",
        "      right=mid-1\n",
        "  return left \n",
        "\n",
        "search_index([1,3,5,7,9],5)          \n"
      ],
      "metadata": {
        "colab": {
          "base_uri": "https://localhost:8080/"
        },
        "id": "v-JaDGvNtUH0",
        "outputId": "095e50a4-5e46-4b6f-983c-e6dcb021d26f"
      },
      "execution_count": null,
      "outputs": [
        {
          "output_type": "execute_result",
          "data": {
            "text/plain": [
              "2"
            ]
          },
          "metadata": {},
          "execution_count": 50
        }
      ]
    },
    {
      "cell_type": "markdown",
      "source": [
        "<aside>\n",
        "💡 **Q4.** You are given a large integer represented as an integer array digits, where each digits[i] is the ith digit of the integer. The digits are ordered from most significant to least significant in left-to-right order. The large integer does not contain any leading 0's.\n",
        "\n",
        "Increment the large integer by one and return the resulting array of digits.\n",
        "\n",
        "**Example 1:**\n",
        "Input: digits = [1,2,3]\n",
        "Output: [1,2,4]\n",
        "\n",
        "**Explanation:** The array represents the integer 123.\n",
        "\n",
        "Incrementing by one gives 123 + 1 = 124.\n",
        "Thus, the result should be [1,2,4].\n",
        "\n",
        "</aside>"
      ],
      "metadata": {
        "id": "kM2qzeAKYWDt"
      }
    },
    {
      "cell_type": "code",
      "source": [
        "def Solution(num:list):\n",
        "  larInt=0\n",
        "  ind=0\n",
        "  for i in range(len(num)):\n",
        "    if larInt<num[i]:\n",
        "      larInt=num[i]\n",
        "      ind=i\n",
        "  num.pop(ind)\n",
        "  num.append(larInt+1)\n",
        "  print('Output:',num)\n",
        "\n",
        "Solution([1,2,3])"
      ],
      "metadata": {
        "colab": {
          "base_uri": "https://localhost:8080/"
        },
        "id": "E_kipnvpU4ht",
        "outputId": "018b7210-d33a-43e3-b37f-40ecbcdd6cad"
      },
      "execution_count": null,
      "outputs": [
        {
          "output_type": "stream",
          "name": "stdout",
          "text": [
            "Output: [1, 2, 4]\n"
          ]
        }
      ]
    },
    {
      "cell_type": "markdown",
      "source": [
        "<aside>\n",
        "💡 **Q5.** You are given two integer arrays nums1 and nums2, sorted in non-decreasing order, and two integers m and n, representing the number of elements in nums1 and nums2 respectively.\n",
        "\n",
        "Merge nums1 and nums2 into a single array sorted in non-decreasing order.\n",
        "\n",
        "The final sorted array should not be returned by the function, but instead be stored inside the array nums1. To accommodate this, nums1 has a length of m + n, where the first m elements denote the elements that should be merged, and the last n elements are set to 0 and should be ignored. nums2 has a length of n.\n",
        "\n",
        "**Example 1:**\n",
        "Input: nums1 = [1,2,3,0,0,0], m = 3, nums2 = [2,5,6], n = 3\n",
        "Output: [1,2,2,3,5,6]\n",
        "\n",
        "**Explanation:** The arrays we are merging are [1,2,3] and [2,5,6].\n",
        "The result of the merge is [1,2,2,3,5,6] with the underlined elements coming from nums1.\n",
        "\n",
        "</aside>"
      ],
      "metadata": {
        "id": "YPle3GHBrtv1"
      }
    },
    {
      "cell_type": "code",
      "source": [
        "def solution(nums1: list, m: int, nums2: list, n: int):\n",
        "    for i in range(m,m+n):\n",
        "        nums1[i]=nums2[i-m]\n",
        "    nums1.sort()\n",
        "    return nums1\n",
        "\n",
        "solution([1,2,3,0,0,0],3,[2,5,6],3)    "
      ],
      "metadata": {
        "colab": {
          "base_uri": "https://localhost:8080/"
        },
        "id": "qAnl1nVVczQD",
        "outputId": "48a46173-4db1-43f5-bed9-b22d5595c081"
      },
      "execution_count": null,
      "outputs": [
        {
          "output_type": "execute_result",
          "data": {
            "text/plain": [
              "[1, 2, 2, 3, 5, 6]"
            ]
          },
          "metadata": {},
          "execution_count": 57
        }
      ]
    },
    {
      "cell_type": "markdown",
      "source": [
        "<aside>\n",
        "💡 **Q6.** Given an integer array nums, return true if any value appears at least twice in the array, and return false if every element is distinct.\n",
        "\n",
        "**Example 1:**\n",
        "Input: nums = [1,2,3,1]\n",
        "\n",
        "Output: true\n",
        "\n",
        "</aside>"
      ],
      "metadata": {
        "id": "bJM33rlhvuO0"
      }
    },
    {
      "cell_type": "code",
      "source": [
        "def solution(num:list):\n",
        "  n=0\n",
        "  for i in num:\n",
        "    n=num.count(i)\n",
        "    if n>=2:\n",
        "      return True\n",
        "  return False\n",
        "\n",
        "solution([1,2,3,1])      \n"
      ],
      "metadata": {
        "colab": {
          "base_uri": "https://localhost:8080/"
        },
        "id": "3fvO0HgXvAns",
        "outputId": "2d110b7a-b38c-4b61-9908-fd3d108cfd83"
      },
      "execution_count": null,
      "outputs": [
        {
          "output_type": "execute_result",
          "data": {
            "text/plain": [
              "True"
            ]
          },
          "metadata": {},
          "execution_count": 61
        }
      ]
    },
    {
      "cell_type": "markdown",
      "source": [
        "<aside>\n",
        "💡 **Q7.** Given an integer array nums, move all 0's to the end of it while maintaining the relative order of the nonzero elements.\n",
        "\n",
        "Note that you must do this in-place without making a copy of the array.\n",
        "\n",
        "**Example 1:**\n",
        "Input: nums = [0,1,0,3,12]\n",
        "Output: [1,3,12,0,0]\n",
        "\n",
        "</aside>"
      ],
      "metadata": {
        "id": "-rVX9oojz-O8"
      }
    },
    {
      "cell_type": "code",
      "source": [
        "def solution(num:list):\n",
        "  out_num=[]\n",
        "  n=0\n",
        "  for i in num:\n",
        "    if i!= 0:\n",
        "      out_num.append(i)\n",
        "    else: \n",
        "      n+=1\n",
        "  for j in range(n):   \n",
        "    out_num.append(0)\n",
        "  return out_num\n",
        "\n",
        "solution([0,1,0,3,12])       "
      ],
      "metadata": {
        "id": "M1bO8ZjjxFnq",
        "colab": {
          "base_uri": "https://localhost:8080/"
        },
        "outputId": "a9eb1b1a-d6ac-4759-b6d0-10e890b6fb53"
      },
      "execution_count": 3,
      "outputs": [
        {
          "output_type": "execute_result",
          "data": {
            "text/plain": [
              "[1, 3, 12, 0, 0]"
            ]
          },
          "metadata": {},
          "execution_count": 3
        }
      ]
    },
    {
      "cell_type": "markdown",
      "source": [
        "<aside>\n",
        "💡 **Q8.** You have a set of integers s, which originally contains all the numbers from 1 to n. Unfortunately, due to some error, one of the numbers in s got duplicated to another number in the set, which results in repetition of one number and loss of another number.\n",
        "\n",
        "You are given an integer array nums representing the data status of this set after the error.\n",
        "\n",
        "Find the number that occurs twice and the number that is missing and return them in the form of an array.\n",
        "\n",
        "**Example 1:**\n",
        "Input: nums = [1,2,2,4]\n",
        "Output: [2,3]\n",
        "\n",
        "</aside>"
      ],
      "metadata": {
        "id": "XxEqk0VYJ4_7"
      }
    },
    {
      "cell_type": "code",
      "source": [
        "def solution(s:list):\n",
        "  n=1\n",
        "  res=[]\n",
        "  for i in s:\n",
        "    if i!=n:\n",
        "      res.append(i)\n",
        "      res.append(n)\n",
        "    n+=1\n",
        "  return res    \n",
        "\n",
        "solution([1,2,2,4])  "
      ],
      "metadata": {
        "colab": {
          "base_uri": "https://localhost:8080/"
        },
        "id": "uArJsmc4JQZC",
        "outputId": "5604e8a0-568b-41e7-a105-51d1b6f62bd9"
      },
      "execution_count": 8,
      "outputs": [
        {
          "output_type": "execute_result",
          "data": {
            "text/plain": [
              "[2, 3]"
            ]
          },
          "metadata": {},
          "execution_count": 8
        }
      ]
    },
    {
      "cell_type": "code",
      "source": [],
      "metadata": {
        "id": "b-i3xNj_MCIB"
      },
      "execution_count": null,
      "outputs": []
    }
  ]
}
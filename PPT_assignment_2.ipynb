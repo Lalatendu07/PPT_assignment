{
  "nbformat": 4,
  "nbformat_minor": 0,
  "metadata": {
    "colab": {
      "provenance": []
    },
    "kernelspec": {
      "name": "python3",
      "display_name": "Python 3"
    },
    "language_info": {
      "name": "python"
    }
  },
  "cells": [
    {
      "cell_type": "markdown",
      "source": [
        "<aside>\n",
        "💡 **Question 1**\n",
        "Given an integer array nums of 2n integers, group these integers into n pairs (a1, b1), (a2, b2),..., (an, bn) such that the sum of min(ai, bi) for all i is maximized. Return the maximized sum.\n",
        "\n",
        "**Example 1:**\n",
        "Input: nums = [1,4,3,2]\n",
        "Output: 4\n",
        "\n",
        "**Explanation:** All possible pairings (ignoring the ordering of elements) are:\n",
        "\n",
        "1. (1, 4), (2, 3) -> min(1, 4) + min(2, 3) = 1 + 2 = 3\n",
        "2. (1, 3), (2, 4) -> min(1, 3) + min(2, 4) = 1 + 2 = 3\n",
        "3. (1, 2), (3, 4) -> min(1, 2) + min(3, 4) = 1 + 3 = 4\n",
        "So the maximum possible sum is 4\n",
        "</aside>"
      ],
      "metadata": {
        "id": "QmVAy0HdxCZc"
      }
    },
    {
      "cell_type": "code",
      "source": [
        "def solution(num:list):\n",
        "   nums_sort = sorted(num)\n",
        "   res = 0\n",
        "   i = 0\n",
        "   while i < len(num):\n",
        "       res += nums_sort[i]\n",
        "       i += 2\n",
        "   return res\n",
        " \n",
        "solution([1,4,3,2])       \n",
        "\n"
      ],
      "metadata": {
        "id": "b-i3xNj_MCIB",
        "colab": {
          "base_uri": "https://localhost:8080/"
        },
        "outputId": "4e79d647-8138-4829-b21b-c09beab0fc2f"
      },
      "execution_count": null,
      "outputs": [
        {
          "output_type": "execute_result",
          "data": {
            "text/plain": [
              "4"
            ]
          },
          "metadata": {},
          "execution_count": 13
        }
      ]
    },
    {
      "cell_type": "markdown",
      "source": [
        "Question 2\n",
        "Alice has n candies, where the ith candy is of type candyType[i]. Alice noticed that she started to gain weight, so she visited a doctor. \n",
        "\n",
        "The doctor advised Alice to only eat n / 2 of the candies she has (n is always even). Alice likes her candies very much, and she wants to eat the maximum number of different types of candies while still following the doctor's advice. \n",
        "\n",
        "Given the integer array candyType of length n, return the maximum number of different types of candies she can eat if she only eats n / 2 of them.\n",
        "\n",
        "Example 1:\n",
        "Input: candyType = [1,1,2,2,3,3]\n",
        "Output: 3\n",
        "\n",
        "Explanation: Alice can only eat 6 / 2 = 3 candies. Since there are only 3 types, she can eat one of each type."
      ],
      "metadata": {
        "id": "AfrV8ADlKCti"
      }
    },
    {
      "cell_type": "code",
      "source": [
        "def solution(candyType:list):\n",
        "  n=0\n",
        "  out_num = set(candyType)\n",
        "  for i in out_num:\n",
        "    n+=1\n",
        "  return n\n",
        "\n",
        "solution([1,1,2,2,3,3])    "
      ],
      "metadata": {
        "id": "Vk734_l5JOo_",
        "colab": {
          "base_uri": "https://localhost:8080/"
        },
        "outputId": "750158ff-18c9-44ed-b967-8ee83385f3be"
      },
      "execution_count": null,
      "outputs": [
        {
          "output_type": "execute_result",
          "data": {
            "text/plain": [
              "3"
            ]
          },
          "metadata": {},
          "execution_count": 1
        }
      ]
    },
    {
      "cell_type": "markdown",
      "source": [
        "Question 3\n",
        "We define a harmonious array as an array where the difference between its maximum value\n",
        "and its minimum value is exactly 1.\n",
        "\n",
        "Given an integer array nums, return the length of its longest harmonious subsequence\n",
        "among all its possible subsequences.\n",
        "\n",
        "A subsequence of an array is a sequence that can be derived from the array by deleting some or no elements without changing the order of the remaining elements.\n",
        "\n",
        "Example 1:\n",
        "Input: nums = [1,3,2,2,5,2,3,7]\n",
        "Output: 5\n",
        "\n",
        "Explanation: The longest harmonious subsequence is [3,2,2,2,3]."
      ],
      "metadata": {
        "id": "ZaxvHLxUXowi"
      }
    },
    {
      "cell_type": "code",
      "source": [
        "def solution(num:list):\n",
        "        d, a = {}, 0\n",
        "        for i in num:\n",
        "            if i not in d: \n",
        "              d[i] = 1\n",
        "            else: \n",
        "              d[i] += 1\n",
        "        for i in d:\n",
        "            if i + 1 in d.keys():\n",
        "                a = max(a, d[i] + d[i+1])\n",
        "        return a\n",
        "\n",
        "solution([1,3,2,2,5,2,3,7])"
      ],
      "metadata": {
        "colab": {
          "base_uri": "https://localhost:8080/"
        },
        "id": "zVztEXc4XYWK",
        "outputId": "e20066ba-d5b0-471b-e3b4-b3af330a6bc5"
      },
      "execution_count": null,
      "outputs": [
        {
          "output_type": "execute_result",
          "data": {
            "text/plain": [
              "5"
            ]
          },
          "metadata": {},
          "execution_count": 21
        }
      ]
    },
    {
      "cell_type": "markdown",
      "source": [
        "Question 4\n",
        "You have a long flowerbed in which some of the plots are planted, and some are not.\n",
        "However, flowers cannot be planted in adjacent plots.\n",
        "Given an integer array flowerbed containing 0's and 1's, where 0 means empty and 1 means not empty, and an integer n, return true if n new flowers can be planted in the flowerbed without violating the no-adjacent-flowers rule and false otherwise.\n",
        "\n",
        "Example 1:\n",
        "Input: flowerbed = [1,0,0,0,1], n = 1\n",
        "Output: true"
      ],
      "metadata": {
        "id": "N6ILw5suyaN_"
      }
    },
    {
      "cell_type": "code",
      "source": [
        "def solution(num:list,n:int):\n",
        "        if n == 0:\n",
        "            return True\n",
        "        for i in range(len(num)):\n",
        "            if num[i] == 0 and (i == 0 or num[i-1] == 0) and (i == len(num)-1 or num[i+1] == 0):\n",
        "                num[i] = 1\n",
        "                n -= 1\n",
        "                if n == 0:\n",
        "                    return True\n",
        "        return False\n",
        "\n",
        "solution([1,0,0,0,1],1)\n",
        "\n"
      ],
      "metadata": {
        "colab": {
          "base_uri": "https://localhost:8080/"
        },
        "id": "oFlgkc1Oc0Hg",
        "outputId": "33125ea1-3a64-40e4-df54-bceb3bb42b45"
      },
      "execution_count": null,
      "outputs": [
        {
          "output_type": "execute_result",
          "data": {
            "text/plain": [
              "True"
            ]
          },
          "metadata": {},
          "execution_count": 26
        }
      ]
    },
    {
      "cell_type": "markdown",
      "source": [
        "Question 5\n",
        "Given an integer array nums, find three numbers whose product is maximum and return the maximum product.\n",
        "\n",
        "Example 1:\n",
        "Input: nums = [1,2,3]\n",
        "Output: 6"
      ],
      "metadata": {
        "id": "3_8Rfwu6QAro"
      }
    },
    {
      "cell_type": "code",
      "source": [
        "def solution(num:list):\n",
        "  l=[]\n",
        "  res=1\n",
        "  for i in range(3):\n",
        "    m=max(num)\n",
        "    num.remove(max(num))\n",
        "    l.append(m)\n",
        "  for n in l:\n",
        "    res=n*res\n",
        "  return res\n",
        "\n",
        "solution([1,2,3])  "
      ],
      "metadata": {
        "colab": {
          "base_uri": "https://localhost:8080/"
        },
        "id": "MdhWnH_aOlKY",
        "outputId": "3ef608af-b399-4d43-cc53-79e16fa19003"
      },
      "execution_count": null,
      "outputs": [
        {
          "output_type": "execute_result",
          "data": {
            "text/plain": [
              "6"
            ]
          },
          "metadata": {},
          "execution_count": 38
        }
      ]
    },
    {
      "cell_type": "markdown",
      "source": [
        "Question 6\n",
        "Given an array of integers nums which is sorted in ascending order, and an integer target,\n",
        "write a function to search target in nums. If target exists, then return its index. Otherwise,\n",
        "return -1.\n",
        "\n",
        "You must write an algorithm with O(log n) runtime complexity.\n",
        "\n",
        "Input: nums = [-1,0,3,5,9,12], target = 9\n",
        "Output: 4\n",
        "\n",
        "Explanation: 9 exists in nums and its index is 4"
      ],
      "metadata": {
        "id": "moKk2DI8SVU4"
      }
    },
    {
      "cell_type": "code",
      "source": [
        "def solution(num:list,target:int):\n",
        "  if target in num:\n",
        "    for i in range(len(num)):\n",
        "      if num[i]==target:\n",
        "        return i\n",
        "  else:\n",
        "    return -1\n",
        "\n",
        "solution([-1,0,3,5,9,12],9)          \n",
        "\n"
      ],
      "metadata": {
        "colab": {
          "base_uri": "https://localhost:8080/"
        },
        "id": "oY4C83KkRlu_",
        "outputId": "36e28391-4ee5-42cc-b2da-e1cf318486c4"
      },
      "execution_count": null,
      "outputs": [
        {
          "output_type": "execute_result",
          "data": {
            "text/plain": [
              "4"
            ]
          },
          "metadata": {},
          "execution_count": 40
        }
      ]
    },
    {
      "cell_type": "markdown",
      "source": [
        "Question 7\n",
        "An array is monotonic if it is either monotone increasing or monotone decreasing.\n",
        "\n",
        "An array nums is monotone increasing if for all i <= j, nums[i] <= nums[j]. An array nums is\n",
        "monotone decreasing if for all i <= j, nums[i] >= nums[j].\n",
        "\n",
        "Given an integer array nums, return true if the given array is monotonic, or false otherwise.\n",
        "\n",
        "Example 1:\n",
        "Input: nums = [1,2,2,3]\n",
        "Output: true"
      ],
      "metadata": {
        "id": "KZxrFZX1VUAU"
      }
    },
    {
      "cell_type": "code",
      "source": [
        "def solution(num:list):\n",
        "  n=0\n",
        "  m=0\n",
        "  res=0\n",
        "  for i in range(len(num)):\n",
        "    if res<=num[i]:\n",
        "      n+=1\n",
        "    elif res>=num[i]:\n",
        "      m+=1\n",
        "    res=num[i]\n",
        "      \n",
        "  if n==len(num):\n",
        "    return True\n",
        "  if m==len(num):\n",
        "    return True      \n",
        "  return False\n",
        "\n",
        "solution([1,2,2,3])  "
      ],
      "metadata": {
        "id": "AVV6gHT9U2NN",
        "colab": {
          "base_uri": "https://localhost:8080/"
        },
        "outputId": "b2a59179-81bf-4f7e-d589-90e554c2f077"
      },
      "execution_count": 7,
      "outputs": [
        {
          "output_type": "execute_result",
          "data": {
            "text/plain": [
              "True"
            ]
          },
          "metadata": {},
          "execution_count": 7
        }
      ]
    },
    {
      "cell_type": "code",
      "source": [],
      "metadata": {
        "id": "ZD4zXafWhPiW"
      },
      "execution_count": null,
      "outputs": []
    }
  ]
}
{
  "nbformat": 4,
  "nbformat_minor": 0,
  "metadata": {
    "colab": {
      "provenance": []
    },
    "kernelspec": {
      "name": "python3",
      "display_name": "Python 3"
    },
    "language_info": {
      "name": "python"
    }
  },
  "cells": [
    {
      "cell_type": "markdown",
      "source": [
        "Question 1\n",
        "Given an integer array nums of length n and an integer target, find three integers\n",
        "in nums such that the sum is closest to the target.\n",
        "Return the sum of the three integers.\n",
        "\n",
        "You may assume that each input would have exactly one solution.\n",
        "\n",
        "Example 1:\n",
        "Input: nums = [-1,2,1,-4], target = 1\n",
        "Output: 2\n",
        "\n",
        "Explanation: The sum that is closest to the target is 2. (-1 + 2 + 1 = 2)."
      ],
      "metadata": {
        "id": "LzSYRg71Lehd"
      }
    },
    {
      "cell_type": "code",
      "source": [
        "def solution(nums:list, target:int):\n",
        "        nums.sort()\n",
        "        n = len(nums)\n",
        "        diff = float('inf')\n",
        "        res = 0\n",
        "        for i in range(n - 2):\n",
        "            left = i + 1\n",
        "            right = n - 1\n",
        "            while left < right:\n",
        "                s = nums[i] + nums[left] + nums[right]\n",
        "                if abs(target - s) < diff:\n",
        "                    diff = abs(target - s)\n",
        "                    res = s\n",
        "                if s < target:\n",
        "                    left += 1\n",
        "                else:\n",
        "                    right -= 1\n",
        "        return res\n",
        "\n",
        "solution([-1,2,1,-4],1)"
      ],
      "metadata": {
        "colab": {
          "base_uri": "https://localhost:8080/"
        },
        "id": "WxIf0vfbLlTl",
        "outputId": "658ca71a-0dbb-4149-ae0d-544e76a744db"
      },
      "execution_count": null,
      "outputs": [
        {
          "output_type": "execute_result",
          "data": {
            "text/plain": [
              "2"
            ]
          },
          "metadata": {},
          "execution_count": 2
        }
      ]
    },
    {
      "cell_type": "markdown",
      "source": [
        "Question 2\n",
        "Given an array nums of n integers, return an array of all the unique quadruplets\n",
        "[nums[a], nums[b], nums[c], nums[d]] such that:\n",
        "           ● 0 <= a, b, c, d < n\n",
        "           ● a, b, c, and d are distinct.\n",
        "           ● nums[a] + nums[b] + nums[c] + nums[d] == target\n",
        "\n",
        "You may return the answer in any order.\n",
        "\n",
        "Example 1:\n",
        "Input: nums = [1,0,-1,0,-2,2], target = 0\n",
        "Output: [[-2,-1,1,2],[-2,0,0,2],[-1,0,0,1]]"
      ],
      "metadata": {
        "id": "sa6V78_Q5LkU"
      }
    },
    {
      "cell_type": "code",
      "source": [
        "def solution(num:list, target:int):\n",
        "        ans = set()\n",
        "        num.sort()\n",
        "        for i in range(len(num)):\n",
        "            for j in range(i+1,len(num)):\n",
        "                k,l = j+1,len(num)-1\n",
        "                while k<l:\n",
        "                    s = num[i]+num[j]+num[k]+num[l]\n",
        "                    if s == target:\n",
        "                        ans.add((num[i],num[j],num[k],num[l]))\n",
        "                        l-=1\n",
        "                        k+=1\n",
        "                    elif s > target:\n",
        "                        l-=1\n",
        "                    else:\n",
        "                        k+=1\n",
        "                  \n",
        "        return ans  \n",
        "\n",
        "solution([1,0,-1,0,-2,2],0)"
      ],
      "metadata": {
        "id": "DGfqQNxN2yoW",
        "colab": {
          "base_uri": "https://localhost:8080/"
        },
        "outputId": "c7a36876-4ac6-4ec2-9b43-833cb6e34c3f"
      },
      "execution_count": null,
      "outputs": [
        {
          "output_type": "execute_result",
          "data": {
            "text/plain": [
              "{(-2, -1, 1, 2), (-2, 0, 0, 2), (-1, 0, 0, 1)}"
            ]
          },
          "metadata": {},
          "execution_count": 3
        }
      ]
    },
    {
      "cell_type": "markdown",
      "source": [
        "Question 3\n",
        "Given a sorted array of distinct integers and a target value, return the index if the\n",
        "target is found. If not, return the index where it would be if it were inserted in\n",
        "order.\n",
        "\n",
        "You must write an algorithm with O(log n) runtime complexity.\n",
        "\n",
        "Example 1:\n",
        "Input: nums = [1,3,5,6], target = 5\n",
        "Output: 2"
      ],
      "metadata": {
        "id": "VgvwjVr1vTyh"
      }
    },
    {
      "cell_type": "code",
      "source": [
        "def solution(num:list, target:int):\n",
        "  if target in num:\n",
        "    for i in range(len(num)):\n",
        "      if num[i]==target:\n",
        "        return i \n",
        "  if target not in num:\n",
        "    for i in range(len(num)):\n",
        "      if target>num[i] and target<num[i+1]:\n",
        "        return i+1\n",
        "      elif target>num[-1]:\n",
        "        return len(num)\n",
        "      elif target>=0 or target<num[0]:\n",
        "        return 0\n",
        "\n",
        "solution([1,3,5,6],5)          \n",
        "\n"
      ],
      "metadata": {
        "id": "DEKA4G9BvYLK",
        "colab": {
          "base_uri": "https://localhost:8080/"
        },
        "outputId": "b2650e60-1bb7-4d7e-a61b-5b81805a4d01"
      },
      "execution_count": 2,
      "outputs": [
        {
          "output_type": "execute_result",
          "data": {
            "text/plain": [
              "2"
            ]
          },
          "metadata": {},
          "execution_count": 2
        }
      ]
    },
    {
      "cell_type": "markdown",
      "source": [
        "<aside>\n",
        "💡 **Question 4**\n",
        "You are given a large integer represented as an integer array digits, where each\n",
        "digits[i] is the ith digit of the integer. The digits are ordered from most significant\n",
        "to least significant in left-to-right order. The large integer does not contain any\n",
        "leading 0's.\n",
        "\n",
        "Increment the large integer by one and return the resulting array of digits.\n",
        "\n",
        "**Example 1:**\n",
        "Input: digits = [1,2,3]\n",
        "Output: [1,2,4]\n",
        "\n",
        "**Explanation:** The array represents the integer 123.\n",
        "Incrementing by one gives 123 + 1 = 124.\n",
        "Thus, the result should be [1,2,4].\n",
        "\n",
        "</aside>"
      ],
      "metadata": {
        "id": "7vVkOGjpvamf"
      }
    },
    {
      "cell_type": "code",
      "source": [
        "def solution(num:list):\n",
        "  LarInt=0\n",
        "  ind=0\n",
        "  for i in range(len(num)):\n",
        "    if LarInt<num[i]:\n",
        "      LarInt=num[i]\n",
        "      ind=i\n",
        "  num.pop(ind)\n",
        "  num.append(LarInt+1)\n",
        "  return num\n",
        "\n",
        "solution([1,2,3])        "
      ],
      "metadata": {
        "id": "72q8rtHIvfB_",
        "colab": {
          "base_uri": "https://localhost:8080/"
        },
        "outputId": "15fadecb-4844-4e49-8db5-160594896147"
      },
      "execution_count": 4,
      "outputs": [
        {
          "output_type": "execute_result",
          "data": {
            "text/plain": [
              "[1, 2, 4]"
            ]
          },
          "metadata": {},
          "execution_count": 4
        }
      ]
    },
    {
      "cell_type": "markdown",
      "source": [
        "Question 5\n",
        "Given a non-empty array of integers nums, every element appears twice except\n",
        "for one. Find that single one.\n",
        "\n",
        "You must implement a solution with a linear runtime complexity and use only\n",
        "constant extra space.\n",
        "\n",
        "Example 1:\n",
        "Input: nums = [2,2,1]\n",
        "Output: 1"
      ],
      "metadata": {
        "id": "KZtkJdP9vgcy"
      }
    },
    {
      "cell_type": "code",
      "source": [
        "def solution(num:list):\n",
        "  in_num=set()\n",
        "  in_num=num\n",
        "  for i in in_num:\n",
        "    n=num.count(i)\n",
        "    if n==1:\n",
        "      return i\n",
        "\n",
        "solution([2,2,1])      \n"
      ],
      "metadata": {
        "id": "1KwJdeuBvkrP",
        "colab": {
          "base_uri": "https://localhost:8080/"
        },
        "outputId": "7b9ca222-789d-423b-9761-eded2133a0a2"
      },
      "execution_count": 5,
      "outputs": [
        {
          "output_type": "execute_result",
          "data": {
            "text/plain": [
              "1"
            ]
          },
          "metadata": {},
          "execution_count": 5
        }
      ]
    },
    {
      "cell_type": "markdown",
      "source": [
        "Question 6\n",
        "Given an array of meeting time intervals where intervals[i] = [starti, endi],\n",
        "determine if a person could attend all meetings.\n",
        "\n",
        "Example 1:\n",
        "Input: intervals = [[0,30],[5,10],[15,20]]\n",
        "Output: false"
      ],
      "metadata": {
        "id": "icMGWDW6vyL6"
      }
    },
    {
      "cell_type": "code",
      "source": [
        "def solution(intervals:list):\n",
        "  for i in range(len(intervals)):\n",
        "    if intervals[i][1]<intervals[i+1][0]:\n",
        "      return True\n",
        "    break  \n",
        "  return False\n",
        "\n",
        "solution([[0,30],[5,10],[15,20]])      \n"
      ],
      "metadata": {
        "id": "T8LD-1D_v0fH",
        "colab": {
          "base_uri": "https://localhost:8080/"
        },
        "outputId": "15123623-2ba5-49e3-bc05-c53159098cbe"
      },
      "execution_count": 12,
      "outputs": [
        {
          "output_type": "execute_result",
          "data": {
            "text/plain": [
              "False"
            ]
          },
          "metadata": {},
          "execution_count": 12
        }
      ]
    },
    {
      "cell_type": "code",
      "source": [],
      "metadata": {
        "id": "E5ij7Jf18ReR"
      },
      "execution_count": null,
      "outputs": []
    }
  ]
}